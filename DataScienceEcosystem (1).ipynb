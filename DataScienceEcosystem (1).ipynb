{
  "metadata": {
    "kernelspec": {
      "name": "python",
      "display_name": "Python (Pyodide)",
      "language": "python"
    },
    "language_info": {
      "name": ""
    }
  },
  "nbformat_minor": 4,
  "nbformat": 4,
  "cells": [
    {
      "cell_type": "markdown",
      "source": "###  Data Science Tools and Ecosystem",
      "metadata": {}
    },
    {
      "cell_type": "markdown",
      "source": "in this notebook, data science tools and Ecosystem are summarized.",
      "metadata": {}
    },
    {
      "cell_type": "markdown",
      "source": "_some of the popular that data scientists use are_\n* python\n* R\n* sql\n* C++\n",
      "metadata": {}
    },
    {
      "cell_type": "markdown",
      "source": "_some of the commonly used librares used by data scientists include_\n* NumPy\n* Pandas\n* Matplotlib\n* Seaborn\n* Keras",
      "metadata": {}
    },
    {
      "cell_type": "markdown",
      "source": "|Data science tools|\n|---|\n|Spyder|\n|Apache Hadoop|\n|Zeppelin|",
      "metadata": {}
    },
    {
      "cell_type": "markdown",
      "source": "### Below are a few examples of evaluating arithmetic expressions in python.",
      "metadata": {}
    },
    {
      "cell_type": "code",
      "source": "#this example of multiply aad integers\n(3*4)+5\nout[1]:17",
      "metadata": {
        "trusted": true
      },
      "outputs": [],
      "execution_count": null
    },
    {
      "cell_type": "code",
      "source": "#this will convert 200 min to hours by diving by 60\n200/60\nout[2]=3.333333333333",
      "metadata": {
        "trusted": true
      },
      "outputs": [],
      "execution_count": null
    },
    {
      "cell_type": "markdown",
      "source": "_Object_\n* how to provide comments in the cell\n* List of well known Data Science Tools\n* List popular languages for Data Science\n* List popular libraries for Data Science\n\n",
      "metadata": {}
    },
    {
      "cell_type": "markdown",
      "source": "## Author\nSultan",
      "metadata": {}
    }
  ]
}